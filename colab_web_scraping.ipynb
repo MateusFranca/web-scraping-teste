{
  "nbformat": 4,
  "nbformat_minor": 0,
  "metadata": {
    "colab": {
      "provenance": [],
      "authorship_tag": "ABX9TyOVccutkFoJL4/LCPOzmEZw",
      "include_colab_link": true
    },
    "kernelspec": {
      "name": "python3",
      "display_name": "Python 3"
    },
    "language_info": {
      "name": "python"
    }
  },
  "cells": [
    {
      "cell_type": "markdown",
      "metadata": {
        "id": "view-in-github",
        "colab_type": "text"
      },
      "source": [
        "<a href=\"https://colab.research.google.com/github/MateusFranca/web-scraping-teste/blob/main/colab_web_scraping.ipynb\" target=\"_parent\"><img src=\"https://colab.research.google.com/assets/colab-badge.svg\" alt=\"Open In Colab\"/></a>"
      ]
    },
    {
      "cell_type": "markdown",
      "source": [
        "## Importando Bibliotecas"
      ],
      "metadata": {
        "id": "8fq4eoYKHanr"
      }
    },
    {
      "cell_type": "code",
      "execution_count": 2,
      "metadata": {
        "id": "6ak9k6PfCskt"
      },
      "outputs": [],
      "source": [
        "from bs4 import BeautifulSoup as bs\n",
        "import requests as rq\n",
        "import re"
      ]
    },
    {
      "cell_type": "markdown",
      "source": [
        "## Pegando HTML do site"
      ],
      "metadata": {
        "id": "yt0TA8TpHtu1"
      }
    },
    {
      "cell_type": "code",
      "source": [
        "html_completo = rq.get(\"https://mateusfranca.github.io/Echo_LandingPage/#section-1\")\n",
        "html_formatado = bs(html_completo.content)\n",
        "print(html_formatado.prettify())"
      ],
      "metadata": {
        "colab": {
          "base_uri": "https://localhost:8080/"
        },
        "id": "5zjfc343Hz3O",
        "outputId": "9b9b0eb6-9c91-4315-fbc9-210f08fea7fa"
      },
      "execution_count": 3,
      "outputs": [
        {
          "output_type": "stream",
          "name": "stdout",
          "text": [
            "<!DOCTYPE html>\n",
            "<html lang=\"en\">\n",
            " <head>\n",
            "  <meta charset=\"utf-8\"/>\n",
            "  <meta content=\"width=device-width, initial-scale=1.0\" name=\"viewport\"/>\n",
            "  <title>\n",
            "   Echo\n",
            "  </title>\n",
            "  <meta content=\"O projeto Echo é uma plataforma de vídeos dedicada à química, oferecendo uma rica coleção de conteúdo educacional e informativo para estudantes e entusiastas, abrangendo tópicos e conceitos essenciais dessa ciência.\" name=\"description\"/>\n",
            "  <link href=\"img/icone_logo.png\" rel=\"icon\" type=\"image/svg+xml\"/>\n",
            "  <link href=\"style/style.css\" rel=\"stylesheet\"/>\n",
            "  <link href=\"style/style.css.map\" rel=\"stylesheet\"/>\n",
            "  <link href=\"https://cdnjs.cloudflare.com/ajax/libs/animate.css/4.1.1/animate.min.css\" rel=\"stylesheet\"/>\n",
            " </head>\n",
            " <body>\n",
            "  <!-- ----------------------------------- Section 1 ----------------------------------- -->\n",
            "  <section id=\"section-1\">\n",
            "   <header>\n",
            "    <img-box>\n",
            "     <img alt=\"\" src=\"img/Logo - Echo.png\"/>\n",
            "    </img-box>\n",
            "    <ul>\n",
            "     <a href=\"#section-1\">\n",
            "      <li>\n",
            "       Inicio\n",
            "      </li>\n",
            "     </a>\n",
            "     <a href=\"#section-2\">\n",
            "      <li>\n",
            "       Sobre\n",
            "      </li>\n",
            "     </a>\n",
            "     <a href=\"#section-3\">\n",
            "      <li>\n",
            "       Jogo\n",
            "      </li>\n",
            "     </a>\n",
            "     <a href=\"#section-4\">\n",
            "      <li>\n",
            "       Duvida\n",
            "      </li>\n",
            "     </a>\n",
            "     <a href=\"#section-5\">\n",
            "      <li>\n",
            "       Contato\n",
            "      </li>\n",
            "     </a>\n",
            "    </ul>\n",
            "   </header>\n",
            "   <container-1>\n",
            "    <h1>\n",
            "     Sua\n",
            "     <br/>\n",
            "     Plataforma de\n",
            "     <br/>\n",
            "     <span>\n",
            "      vídeo aulas\n",
            "     </span>\n",
            "    </h1>\n",
            "    <img alt=\"\" src=\"img/icone_logo.png\"/>\n",
            "   </container-1>\n",
            "   <div class=\"img-box-seta\">\n",
            "    <img alt=\"\" class=\"setinha\" src=\"img/seta_baixo.png\"/>\n",
            "   </div>\n",
            "  </section>\n",
            "  <!-- ----------------------------------- Section 2 ----------------------------------- -->\n",
            "  <section id=\"section-2\">\n",
            "   <div class=\"img-box\">\n",
            "    <img alt=\"\" src=\"img/logo_txt_preto.png\"/>\n",
            "   </div>\n",
            "  </section>\n",
            "  <!-- ----------------------------------- Section 3 ----------------------------------- -->\n",
            "  <section id=\"section-3\">\n",
            "   <div class=\"container\">\n",
            "    <div class=\"container-content\">\n",
            "     <div class=\"box-1\">\n",
            "      <div class=\"img-box\">\n",
            "      </div>\n",
            "      <div class=\"text-box\">\n",
            "       <h1>\n",
            "        Sobre nós\n",
            "       </h1>\n",
            "       <p>\n",
            "        Somos a sua plataforma online dedicada a fornecer recursos educacionais de qualidade e\n",
            "                            suporte para professores de ciências, com foco no ensino acessível e no uso de recursos\n",
            "                            alternativos! Na plataforma ECHO, você encontrará uma variedade de recursos práticos e\n",
            "                            acessíveis para enriquecer o ensino de ciências. Nossos cursos, materiais didáticos e\n",
            "                            atividades são projetados para utilizar recursos alternativos que podem ser facilmente\n",
            "                            encontrados e utilizados em sala de aula. Em nossa plataforma, você encontrará cursos,\n",
            "                            planos de aula e ideias práticas que o ajudarão a oferecer uma educação de qualidade em\n",
            "                            ciências, mesmo com recursos alternativos. Além disso, você terá acesso a uma comunidade\n",
            "                            ativa de educadores, onde poderá compartilhar ideias, experiências e recursos, enriquecendo\n",
            "                            sua prática pedagógica.\n",
            "       </p>\n",
            "      </div>\n",
            "     </div>\n",
            "     <div class=\"box-2\">\n",
            "      <div class=\"title-box\">\n",
            "       <h1>\n",
            "        Qual é a finalidade do pipetador pera na prática química e como ele é utilizado?\n",
            "       </h1>\n",
            "      </div>\n",
            "      <div class=\"quetions-box\">\n",
            "       <div class=\"quetion-1\">\n",
            "        <div class=\"id-question\">\n",
            "         A\n",
            "        </div>\n",
            "        <div class=\"quetion-txt\">\n",
            "         <p>\n",
            "          Transferir volumes precisos de líquidos de um recipiente para outro.\n",
            "         </p>\n",
            "        </div>\n",
            "       </div>\n",
            "       <div class=\"quetion-2\">\n",
            "        <div class=\"id-question\">\n",
            "         B\n",
            "        </div>\n",
            "        <div class=\"quetion-txt\">\n",
            "         <p>\n",
            "          Transferir volumes precisos de líquidos de um recipiente para outro.\n",
            "         </p>\n",
            "        </div>\n",
            "       </div>\n",
            "       <div class=\"quetion-3\">\n",
            "        <div class=\"id-question\">\n",
            "         C\n",
            "        </div>\n",
            "        <div class=\"quetion-txt\">\n",
            "         <p>\n",
            "          Transferir volumes precisos de líquidos de um recipiente para outro.\n",
            "         </p>\n",
            "        </div>\n",
            "       </div>\n",
            "      </div>\n",
            "     </div>\n",
            "    </div>\n",
            "    <!-- ----------------------------------- Section 4 ----------------------------------- -->\n",
            "    <section id=\"section-4\">\n",
            "     <h1>\n",
            "      Dúvidas frequentes\n",
            "     </h1>\n",
            "     <div class=\"container\">\n",
            "      <div class=\"box-1\">\n",
            "       <p>\n",
            "        Existem recursos de acompanhamento do progresso e avaliação do desempenho do aluno na plataforma de\n",
            "                    química?\n",
            "       </p>\n",
            "      </div>\n",
            "      <div class=\"box-1\">\n",
            "       <p>\n",
            "        Existem recursos de acompanhamento do progresso e avaliação do desempenho do aluno na plataforma de\n",
            "                    química?\n",
            "       </p>\n",
            "      </div>\n",
            "      <div class=\"box-1\">\n",
            "       <p>\n",
            "        Existem recursos de acompanhamento do progresso e avaliação do desempenho do aluno na plataforma de\n",
            "                    química?\n",
            "       </p>\n",
            "      </div>\n",
            "      <div class=\"box-1\">\n",
            "       <p>\n",
            "        Existem recursos de acompanhamento do progresso e avaliação do desempenho do aluno na plataforma de\n",
            "                    química?\n",
            "       </p>\n",
            "      </div>\n",
            "     </div>\n",
            "    </section>\n",
            "    <!-- ----------------------------------- Section 5 ----------------------------------- -->\n",
            "    <section id=\"section-5\">\n",
            "     <div class=\"container\">\n",
            "      <div class=\"img-box\">\n",
            "       <img alt=\"\" src=\"img/Logo - Echo.png\"/>\n",
            "      </div>\n",
            "      <div class=\"social-box\">\n",
            "       <div class=\"box-1\">\n",
            "        <div class=\"social\">\n",
            "         <a href=\"\">\n",
            "          <svg fill=\"none\" height=\"64\" viewbox=\"0 0 90 64\" width=\"90\" xmlns=\"http://www.w3.org/2000/svg\">\n",
            "           <rect height=\"62\" rx=\"4\" stroke=\"url(#paint0_linear_14908_1567)\" stroke-width=\"2\" width=\"88\" x=\"1\" y=\"1\">\n",
            "           </rect>\n",
            "           <path clip-rule=\"evenodd\" d=\"M57.9006 20.0864C54.6104 16.8081 50.2348 15.0019 45.5732 15C35.9676 15 28.15 22.7799 28.1462 32.3421C28.1449 35.3989 28.9473 38.3828 30.4723 41.0129L28 50L37.2383 47.5882C39.7839 48.9701 42.6497 49.6984 45.5661 49.6992H45.5734C55.1779 49.6992 62.9963 41.9186 63 32.356C63.0019 27.7217 61.1909 23.3644 57.9006 20.0864ZM45.5732 46.7702H45.5672C42.9682 46.7692 40.4192 46.074 38.195 44.7609L37.6663 44.4484L32.1842 45.8796L33.6474 40.5602L33.3029 40.0148C31.853 37.7197 31.0873 35.0669 31.0886 32.3432C31.0916 24.3954 37.5895 17.9292 45.579 17.9292C49.4478 17.9305 53.0847 19.4318 55.8193 22.1566C58.554 24.8813 60.0591 28.5031 60.0578 32.3549C60.0544 40.3034 53.5569 46.7702 45.5732 46.7702ZM53.5183 35.9739C53.0829 35.7569 50.942 34.7089 50.5428 34.564C50.144 34.4194 49.8533 34.3474 49.5633 34.7811C49.2729 35.2147 48.4386 36.191 48.1844 36.48C47.9303 36.7693 47.6766 36.8056 47.241 36.5885C46.8055 36.3717 45.4025 35.9139 43.7392 34.4376C42.4449 33.2885 41.571 31.8694 41.3169 31.4357C41.0632 31.0016 41.3148 30.7897 41.5079 30.5513C41.9793 29.9688 42.4513 29.358 42.5964 29.069C42.7417 28.7798 42.669 28.5266 42.5599 28.3098C42.4513 28.093 41.5805 25.9599 41.2177 25.092C40.864 24.2473 40.5053 24.3614 40.2379 24.3481C39.9841 24.3355 39.6937 24.333 39.4033 24.333C39.1131 24.333 38.6413 24.4413 38.242 24.8754C37.843 25.3092 36.7182 26.3575 36.7182 28.4905C36.7182 30.6235 38.2785 32.6841 38.4962 32.9734C38.7138 33.2626 41.5667 37.6398 45.9347 39.5167C46.9736 39.9636 47.7845 40.2299 48.4171 40.4297C49.4603 40.7595 50.4093 40.713 51.1597 40.6014C51.9964 40.4769 53.7357 39.553 54.0989 38.5408C54.4616 37.5285 54.4616 36.6609 54.3526 36.48C54.244 36.2993 53.9536 36.191 53.5183 35.9739Z\" fill=\"url(#paint1_linear_14908_1567)\" fill-rule=\"evenodd\">\n",
            "           </path>\n",
            "           <defs>\n",
            "            <lineargradient gradientunits=\"userSpaceOnUse\" id=\"paint0_linear_14908_1567\" x1=\"45\" x2=\"45\" y1=\"0\" y2=\"64\">\n",
            "             <stop stop-color=\"#D55AFF\">\n",
            "             </stop>\n",
            "             <stop offset=\"1\" stop-color=\"#5A57FF\">\n",
            "             </stop>\n",
            "            </lineargradient>\n",
            "            <lineargradient gradientunits=\"userSpaceOnUse\" id=\"paint1_linear_14908_1567\" x1=\"27.9989\" x2=\"62.9989\" y1=\"32.4989\" y2=\"32.4989\">\n",
            "             <stop stop-color=\"#D55AFF\">\n",
            "             </stop>\n",
            "             <stop offset=\"1\" stop-color=\"#0038B0\">\n",
            "             </stop>\n",
            "            </lineargradient>\n",
            "           </defs>\n",
            "          </svg>\n",
            "         </a>\n",
            "        </div>\n",
            "        <div class=\"social\">\n",
            "         <a href=\"\">\n",
            "          <svg fill=\"none\" height=\"64\" viewbox=\"0 0 90 64\" width=\"90\" xmlns=\"http://www.w3.org/2000/svg\">\n",
            "           <rect height=\"62\" rx=\"4\" stroke=\"url(#paint0_linear_14908_1568)\" stroke-width=\"2\" width=\"88\" x=\"1\" y=\"1\">\n",
            "           </rect>\n",
            "           <path d=\"M62.9136 24.2901C62.8339 22.4304 62.5417 21.1519 62.1231 20.0441C61.6913 18.8681 61.027 17.8153 60.1567 16.94C59.3063 16.0512 58.2766 15.3605 57.1472 14.923C56.0646 14.4922 54.8289 14.1915 53.022 14.1095C51.2016 14.0206 50.6236 14 46.0066 14C41.3896 14 40.8117 14.0206 38.998 14.1026C37.1911 14.1846 35.9489 14.4856 34.8728 14.9161C33.7299 15.3605 32.707 16.0442 31.8566 16.94C30.993 17.8153 30.3222 18.875 29.8968 20.0374C29.4783 21.1519 29.1861 22.4235 29.1064 24.2832C29.02 26.1568 29 26.7516 29 31.5035C29 36.2554 29.02 36.8502 29.0996 38.7168C29.1793 40.5765 29.4718 41.855 29.8903 42.9629C30.3222 44.1388 30.993 45.1917 31.8566 46.0669C32.707 46.9558 33.7367 47.6464 34.866 48.0839C35.9489 48.5147 37.1844 48.8154 38.9915 48.8974C40.8049 48.9797 41.3831 49 46.0001 49C50.6172 49 51.1951 48.9797 53.0087 48.8974C54.8156 48.8154 56.0578 48.5147 57.134 48.0839C59.4194 47.1745 61.2263 45.3148 62.1099 42.9629C62.5282 41.8484 62.8207 40.5765 62.9004 38.7168C62.98 36.8502 63 36.2554 63 31.5035C63 26.7516 62.9933 26.1568 62.9136 24.2901ZM59.8512 38.5801C59.778 40.2894 59.4991 41.2124 59.2666 41.8278C58.6951 43.3526 57.5194 44.5627 56.0379 45.1508C55.44 45.3901 54.5367 45.6772 52.8823 45.7523C51.0887 45.8345 50.5507 45.8548 46.0134 45.8548C41.476 45.8548 40.9313 45.8345 39.1441 45.7523C37.4833 45.6772 36.5865 45.3901 35.9886 45.1508C35.2514 44.8704 34.5803 44.426 34.0356 43.8448C33.4709 43.2772 33.0391 42.5935 32.7666 41.8347C32.5341 41.2194 32.2552 40.2894 32.1823 38.587C32.1023 36.7409 32.0826 36.187 32.0826 31.5171C32.0826 26.8472 32.1023 26.2866 32.1823 24.4474C32.2552 22.7381 32.5341 21.8151 32.7666 21.1997C33.0391 20.4407 33.4709 19.7503 34.0424 19.1894C34.5935 18.6082 35.2579 18.1638 35.9954 17.8836C36.5932 17.6443 37.4968 17.3572 39.1509 17.2819C40.9445 17.1999 41.4827 17.1793 46.0199 17.1793C50.564 17.1793 51.1019 17.1999 52.8891 17.2819C54.5499 17.3572 55.4467 17.6443 56.0446 17.8836C56.7819 18.1638 57.4529 18.6082 57.9976 19.1894C58.5623 19.7569 58.9941 20.4407 59.2666 21.1997C59.4991 21.8151 59.778 22.7448 59.8512 24.4474C59.9309 26.2935 59.9509 26.8472 59.9509 31.5171C59.9509 36.187 59.9309 36.734 59.8512 38.5801Z\" fill=\"url(#paint1_linear_14908_1568)\">\n",
            "           </path>\n",
            "           <path d=\"M46.0066 22.5124C41.1838 22.5124 37.2708 26.5395 37.2708 31.5035C37.2708 36.4675 41.1838 40.4945 46.0066 40.4945C50.8297 40.4945 54.7424 36.4675 54.7424 31.5035C54.7424 26.5395 50.8297 22.5124 46.0066 22.5124ZM46.0066 37.3357C42.8778 37.3357 40.3399 34.7239 40.3399 31.5035C40.3399 28.283 42.8778 25.6712 46.0066 25.6712C49.1357 25.6712 51.6733 28.283 51.6733 31.5035C51.6733 34.7239 49.1357 37.3357 46.0066 37.3357Z\" fill=\"url(#paint2_linear_14908_1568)\">\n",
            "           </path>\n",
            "           <path d=\"M57.1275 22.1569C57.1275 23.3161 56.2143 24.2559 55.0878 24.2559C53.9616 24.2559 53.0484 23.3161 53.0484 22.1569C53.0484 20.9975 53.9616 20.0579 55.0878 20.0579C56.2143 20.0579 57.1275 20.9975 57.1275 22.1569Z\" fill=\"url(#paint3_linear_14908_1568)\">\n",
            "           </path>\n",
            "           <defs>\n",
            "            <lineargradient gradientunits=\"userSpaceOnUse\" id=\"paint0_linear_14908_1568\" x1=\"45\" x2=\"45\" y1=\"0\" y2=\"64\">\n",
            "             <stop stop-color=\"#D55AFF\">\n",
            "             </stop>\n",
            "             <stop offset=\"1\" stop-color=\"#5A57FF\">\n",
            "             </stop>\n",
            "            </lineargradient>\n",
            "            <lineargradient gradientunits=\"userSpaceOnUse\" id=\"paint1_linear_14908_1568\" x1=\"28.9989\" x2=\"62.9989\" y1=\"31.4989\" y2=\"31.4989\">\n",
            "             <stop stop-color=\"#D55AFF\">\n",
            "             </stop>\n",
            "             <stop offset=\"1\" stop-color=\"#0038B0\">\n",
            "             </stop>\n",
            "            </lineargradient>\n",
            "            <lineargradient gradientunits=\"userSpaceOnUse\" id=\"paint2_linear_14908_1568\" x1=\"28.9989\" x2=\"62.9989\" y1=\"31.4989\" y2=\"31.4989\">\n",
            "             <stop stop-color=\"#D55AFF\">\n",
            "             </stop>\n",
            "             <stop offset=\"1\" stop-color=\"#0038B0\">\n",
            "             </stop>\n",
            "            </lineargradient>\n",
            "            <lineargradient gradientunits=\"userSpaceOnUse\" id=\"paint3_linear_14908_1568\" x1=\"28.9989\" x2=\"62.9989\" y1=\"31.4989\" y2=\"31.4989\">\n",
            "             <stop stop-color=\"#D55AFF\">\n",
            "             </stop>\n",
            "             <stop offset=\"1\" stop-color=\"#0038B0\">\n",
            "             </stop>\n",
            "            </lineargradient>\n",
            "           </defs>\n",
            "          </svg>\n",
            "         </a>\n",
            "        </div>\n",
            "        <div class=\"social\">\n",
            "         <a href=\"\">\n",
            "          <svg fill=\"none\" height=\"64\" viewbox=\"0 0 90 64\" width=\"90\" xmlns=\"http://www.w3.org/2000/svg\">\n",
            "           <rect height=\"62\" rx=\"4\" stroke=\"url(#paint0_linear_14908_1571)\" stroke-width=\"2\" width=\"88\" x=\"1\" y=\"1\">\n",
            "           </rect>\n",
            "           <path d=\"M66.1119 22.3832C65.5309 20.1983 63.8184 18.478 61.6434 17.8937C58.4185 17.0252 46.8129 17 45.5 17C44.1871 17 32.5815 17.0252 29.3573 17.8934C27.1816 18.478 25.4691 20.1983 24.8884 22.3822C24.0102 25.6768 24 32.2231 24 32.5C24 32.7769 24.0102 39.3232 24.8881 42.6168C25.4691 44.8017 27.1816 46.522 29.3566 47.1063C32.5815 47.9748 44.1871 48 45.5 48C46.8129 48 58.4185 47.9748 61.6427 47.1066C63.8184 46.522 65.5309 44.8017 66.1116 42.6178C66.9898 39.3232 67 32.7769 67 32.5C67 32.2231 66.9898 25.6768 66.1119 22.3832ZM63.6767 41.9709C63.3267 43.288 62.2962 44.3246 60.9876 44.6762C58.5307 45.3379 48.9749 45.4831 45.5 45.4831C42.0255 45.4831 32.4696 45.3379 30.0118 44.6759C28.7038 44.3246 27.6737 43.288 27.323 41.9699C26.5294 38.9935 26.5195 32.5646 26.5195 32.5C26.5195 32.4354 26.5287 26.0094 27.3233 23.0291C27.6733 21.712 28.7038 20.6754 30.0124 20.3238C32.4693 19.6621 42.0255 19.5169 45.5 19.5169C48.9745 19.5169 58.5307 19.6621 60.9882 20.3241C62.2962 20.6754 63.3267 21.712 63.677 23.0301C64.4706 26.0065 64.4805 32.4354 64.4805 32.5C64.4805 32.5646 64.4713 38.9906 63.6767 41.9709Z\" fill=\"black\">\n",
            "           </path>\n",
            "           <path d=\"M66.1119 22.3832C65.5309 20.1983 63.8184 18.478 61.6434 17.8937C58.4185 17.0252 46.8129 17 45.5 17C44.1871 17 32.5815 17.0252 29.3573 17.8934C27.1816 18.478 25.4691 20.1983 24.8884 22.3822C24.0102 25.6768 24 32.2231 24 32.5C24 32.7769 24.0102 39.3232 24.8881 42.6168C25.4691 44.8017 27.1816 46.522 29.3566 47.1063C32.5815 47.9748 44.1871 48 45.5 48C46.8129 48 58.4185 47.9748 61.6427 47.1066C63.8184 46.522 65.5309 44.8017 66.1116 42.6178C66.9898 39.3232 67 32.7769 67 32.5C67 32.2231 66.9898 25.6768 66.1119 22.3832ZM63.6767 41.9709C63.3267 43.288 62.2962 44.3246 60.9876 44.6762C58.5307 45.3379 48.9749 45.4831 45.5 45.4831C42.0255 45.4831 32.4696 45.3379 30.0118 44.6759C28.7038 44.3246 27.6737 43.288 27.323 41.9699C26.5294 38.9935 26.5195 32.5646 26.5195 32.5C26.5195 32.4354 26.5287 26.0094 27.3233 23.0291C27.6733 21.712 28.7038 20.6754 30.0124 20.3238C32.4693 19.6621 42.0255 19.5169 45.5 19.5169C48.9745 19.5169 58.5307 19.6621 60.9882 20.3241C62.2962 20.6754 63.3267 21.712 63.677 23.0301C64.4706 26.0065 64.4805 32.4354 64.4805 32.5C64.4805 32.5646 64.4713 38.9906 63.6767 41.9709Z\" fill=\"url(#paint1_linear_14908_1571)\">\n",
            "           </path>\n",
            "           <path d=\"M40.0984 40.6846L54.486 32.5003L40.0984 24.3154V40.6846ZM42.618 28.6453L49.3944 32.5003L42.618 36.355V28.6453Z\" fill=\"black\">\n",
            "           </path>\n",
            "           <path d=\"M40.0984 40.6846L54.486 32.5003L40.0984 24.3154V40.6846ZM42.618 28.6453L49.3944 32.5003L42.618 36.355V28.6453Z\" fill=\"url(#paint2_linear_14908_1571)\">\n",
            "           </path>\n",
            "           <defs>\n",
            "            <lineargradient gradientunits=\"userSpaceOnUse\" id=\"paint0_linear_14908_1571\" x1=\"45\" x2=\"45\" y1=\"0\" y2=\"64\">\n",
            "             <stop stop-color=\"#D55AFF\">\n",
            "             </stop>\n",
            "             <stop offset=\"1\" stop-color=\"#5A57FF\">\n",
            "             </stop>\n",
            "            </lineargradient>\n",
            "            <lineargradient gradientunits=\"userSpaceOnUse\" id=\"paint1_linear_14908_1571\" x1=\"23.9986\" x2=\"66.9986\" y1=\"32.499\" y2=\"32.499\">\n",
            "             <stop stop-color=\"#D55AFF\">\n",
            "             </stop>\n",
            "             <stop offset=\"1\" stop-color=\"#0038B0\">\n",
            "             </stop>\n",
            "            </lineargradient>\n",
            "            <lineargradient gradientunits=\"userSpaceOnUse\" id=\"paint2_linear_14908_1571\" x1=\"23.9986\" x2=\"66.9986\" y1=\"32.499\" y2=\"32.499\">\n",
            "             <stop stop-color=\"#D55AFF\">\n",
            "             </stop>\n",
            "             <stop offset=\"1\" stop-color=\"#0038B0\">\n",
            "             </stop>\n",
            "            </lineargradient>\n",
            "           </defs>\n",
            "          </svg>\n",
            "         </a>\n",
            "        </div>\n",
            "        <div class=\"social\">\n",
            "         <a href=\"\">\n",
            "          <svg fill=\"none\" height=\"64\" viewbox=\"0 0 90 64\" width=\"90\" xmlns=\"http://www.w3.org/2000/svg\">\n",
            "           <rect height=\"62\" rx=\"4\" stroke=\"url(#paint0_linear_14970_1580)\" stroke-width=\"2\" width=\"88\" x=\"1\" y=\"1\">\n",
            "           </rect>\n",
            "           <path d=\"M45.9 31.1C47.4 32.6 47.4 34.85 45.9 36.35L39.15 43.1C37.8 44.45 35.4 44.45 33.9 43.1C33.45 42.2 33 41.3 33 40.4C33 39.35 33.45 38.45 34.05 37.85L37.5 34.25L35.4 32.15L31.95 35.6C30.75 36.8 30 38.6 30 40.25C30 42.05 30.75 43.7 31.95 44.9C33.15 46.1 34.95 46.85 36.6 46.85C38.4 46.85 40.05 46.1 41.25 44.9L48 38.15C50.55 35.6 50.55 31.4 48 28.7L45.9 31.1Z\" fill=\"url(#paint1_linear_14970_1580)\">\n",
            "           </path>\n",
            "           <path d=\"M58.05 18.95C56.85 17.75 55.05 17 53.4 17C51.6 17 49.95 17.75 48.75 18.95L42 25.7C39.3 28.25 39.3 32.45 42 35L44.1 32.9C42.6 31.4 42.6 29.15 44.1 27.65L50.85 20.9C52.2 19.55 54.6 19.55 56.1 20.9C56.55 21.8 57 22.7 57 23.6C57 24.65 56.55 25.55 55.95 26.15L52.5 29.6L54.6 31.7L58.05 28.25C59.25 27.05 60 25.25 60 23.6C60 21.95 59.25 20.15 58.05 18.95Z\" fill=\"url(#paint2_linear_14970_1580)\">\n",
            "           </path>\n",
            "           <defs>\n",
            "            <lineargradient gradientunits=\"userSpaceOnUse\" id=\"paint0_linear_14970_1580\" x1=\"45\" x2=\"45\" y1=\"0\" y2=\"64\">\n",
            "             <stop stop-color=\"#D55AFF\">\n",
            "             </stop>\n",
            "             <stop offset=\"1\" stop-color=\"#5A57FF\">\n",
            "             </stop>\n",
            "            </lineargradient>\n",
            "            <lineargradient gradientunits=\"userSpaceOnUse\" id=\"paint1_linear_14970_1580\" x1=\"29.999\" x2=\"59.9991\" y1=\"31.9241\" y2=\"31.9241\">\n",
            "             <stop stop-color=\"#D55AFF\">\n",
            "             </stop>\n",
            "             <stop offset=\"1\" stop-color=\"#0038B0\">\n",
            "             </stop>\n",
            "            </lineargradient>\n",
            "            <lineargradient gradientunits=\"userSpaceOnUse\" id=\"paint2_linear_14970_1580\" x1=\"29.999\" x2=\"59.9991\" y1=\"31.9241\" y2=\"31.9241\">\n",
            "             <stop stop-color=\"#D55AFF\">\n",
            "             </stop>\n",
            "             <stop offset=\"1\" stop-color=\"#0038B0\">\n",
            "             </stop>\n",
            "            </lineargradient>\n",
            "           </defs>\n",
            "          </svg>\n",
            "         </a>\n",
            "        </div>\n",
            "       </div>\n",
            "       <div class=\"box-2\">\n",
            "        <div class=\"cotanto\">\n",
            "         <div class=\"icon\">\n",
            "          <svg fill=\"none\" height=\"48\" viewbox=\"0 0 47 48\" width=\"47\" xmlns=\"http://www.w3.org/2000/svg\">\n",
            "           <path d=\"M9.7264 31.4899C14.2923 36.9479 19.7887 41.2453 26.0621 44.286C28.4506 45.4179 31.6448 46.7609 35.2036 46.9911C35.4242 47.0007 35.6352 47.0103 35.8558 47.0103C38.2443 47.0103 40.1628 46.1853 41.7263 44.4875C41.7359 44.4779 41.7551 44.4587 41.7647 44.4395C42.3211 43.7681 42.9542 43.1637 43.616 42.5211C44.0669 42.0894 44.5273 41.6386 44.9685 41.1781C47.0117 39.0486 47.0117 36.3436 44.9494 34.2813L39.1844 28.5163C38.206 27.4995 37.0357 26.9623 35.8079 26.9623C34.5801 26.9623 33.4002 27.4995 32.393 28.5067L28.959 31.9407C28.6424 31.7585 28.3163 31.5954 28.0093 31.4419C27.6256 31.2501 27.2707 31.0678 26.9542 30.8664C23.8271 28.8808 20.9878 26.2909 18.2731 22.9623C16.9014 21.2261 15.9806 19.7681 15.3379 18.2813C16.2396 17.4659 17.0837 16.6122 17.899 15.7777C18.1868 15.4803 18.4842 15.183 18.7815 14.8856C19.8175 13.8496 20.3739 12.6506 20.3739 11.4324C20.3739 10.2142 19.8271 9.01512 18.7815 7.97915L15.923 5.12064C15.5873 4.78491 15.2708 4.45877 14.9446 4.12304C14.3115 3.47077 13.6497 2.7993 12.9974 2.19499C12.0094 1.22617 10.8487 0.717773 9.62088 0.717773C8.40266 0.717773 7.2324 1.22617 6.20602 2.20458L2.61849 5.79211C1.31394 7.09666 0.575333 8.67939 0.421856 10.5115C0.239602 12.8041 0.661664 15.2405 1.75519 18.1854C3.43384 22.7417 5.96621 26.9719 9.7264 31.4899ZM2.76238 10.713C2.87749 9.43718 3.36669 8.37244 4.28756 7.45157L7.8559 3.88324C8.41225 3.34607 9.02616 3.06789 9.62088 3.06789C10.206 3.06789 10.8007 3.34607 11.3475 3.90242C11.9902 4.49714 12.5945 5.12064 13.2468 5.78251C13.5729 6.11824 13.9086 6.45397 14.2444 6.7993L17.1029 9.65781C17.6976 10.2525 18.0046 10.8568 18.0046 11.4516C18.0046 12.0463 17.6976 12.6506 17.1029 13.2453C16.8055 13.5427 16.5082 13.8496 16.2108 14.147C15.3187 15.0487 14.4842 15.9024 13.5633 16.7177C13.5441 16.7369 13.5345 16.7465 13.5154 16.7657C12.7192 17.5619 12.8439 18.3197 13.0357 18.8952C13.0453 18.924 13.0549 18.9432 13.0645 18.9719C13.8031 20.7465 14.8295 22.4348 16.4314 24.4491C19.3091 27.9983 22.3403 30.7513 25.6784 32.8712C26.0909 33.1398 26.5321 33.3508 26.9446 33.5618C27.3283 33.7537 27.6832 33.9359 27.9997 34.1374C28.0381 34.1566 28.0669 34.1758 28.1053 34.1949C28.4218 34.358 28.7288 34.4347 29.0357 34.4347C29.8031 34.4347 30.3019 33.9455 30.465 33.7825L34.0525 30.1949C34.6088 29.6386 35.2132 29.3412 35.8079 29.3412C36.5369 29.3412 37.1316 29.7921 37.5057 30.1949L43.2899 35.9695C44.441 37.1206 44.4314 38.3676 43.2611 39.5858C42.8582 40.0175 42.4362 40.4299 41.9853 40.8616C41.3139 41.5139 40.6136 42.1853 39.9805 42.9431C38.8774 44.1326 37.5633 44.6889 35.8654 44.6889C35.7024 44.6889 35.5297 44.6793 35.3666 44.6697C32.2204 44.4683 29.2947 43.2405 27.0981 42.1949C21.1317 39.3076 15.8943 35.2117 11.5489 30.0127C7.971 25.7057 5.56333 21.6962 3.97101 17.3988C2.983 14.7609 2.6089 12.641 2.76238 10.713Z\" fill=\"url(#paint0_linear_14929_1550)\">\n",
            "           </path>\n",
            "           <defs>\n",
            "            <lineargradient gradientunits=\"userSpaceOnUse\" id=\"paint0_linear_14929_1550\" x1=\"0.379396\" x2=\"46.4971\" y1=\"23.8625\" y2=\"23.8625\">\n",
            "             <stop stop-color=\"#D55AFF\">\n",
            "             </stop>\n",
            "             <stop offset=\"1\" stop-color=\"#0038B0\">\n",
            "             </stop>\n",
            "            </lineargradient>\n",
            "           </defs>\n",
            "          </svg>\n",
            "         </div>\n",
            "         <p>\n",
            "          (69) 9 9999-9999\n",
            "         </p>\n",
            "        </div>\n",
            "        <div class=\"cotanto\">\n",
            "         <div class=\"icon\">\n",
            "          <svg fill=\"none\" height=\"46\" viewbox=\"0 0 60 46\" width=\"60\" xmlns=\"http://www.w3.org/2000/svg\">\n",
            "           <path d=\"M47.5581 18.2711V5.91299C47.5581 3.2005 45.3523 0.994629 42.6397 0.994629H5.75224C3.03974 0.994629 0.833984 3.20038 0.833984 5.91299V30.5046C0.833984 33.2171 3.03974 35.423 5.75235 35.423H33.3275C34.9385 41.0913 40.1506 45.2596 46.3286 45.2596C48.7061 45.2596 51.0439 44.634 53.0924 43.4489C53.6796 43.109 53.8814 42.3573 53.5403 41.769C53.2005 41.1806 52.4476 40.9776 51.8604 41.3212C50.1865 42.289 48.2737 42.8005 46.3284 42.8005C40.2261 42.8005 35.2622 37.8364 35.2622 31.7342C35.2622 25.632 40.2262 20.668 46.3284 20.668C52.4307 20.668 57.3947 25.632 57.3947 31.7342V32.9638C57.3947 34.3195 56.2912 35.423 54.9356 35.423C53.5799 35.423 52.4764 34.3195 52.4764 32.9638V28.0455C52.4764 27.3658 51.9265 26.8158 51.2468 26.8158C50.9161 26.8158 50.6189 26.9497 50.3982 27.1617C49.3114 26.1933 47.8951 25.5862 46.3284 25.5862C42.9387 25.5862 40.1806 28.3444 40.1806 31.7341C40.1806 35.1238 42.9387 37.8821 46.3286 37.8821C48.1609 37.8821 49.7902 37.0601 50.9176 35.7839C51.8083 37.0492 53.2738 37.8821 54.9357 37.8821C57.6482 37.8821 59.8539 35.6763 59.8539 32.9637V31.7341C59.8539 24.6912 54.4411 18.8952 47.5581 18.2711ZM5.75235 3.45375H42.6398C42.691 3.45375 42.7339 3.47992 42.7844 3.48303L25.2071 17.911C24.5816 18.3049 23.6749 18.2231 23.2679 17.9735L5.6093 3.4828C5.65921 3.47981 5.70163 3.45375 5.75235 3.45375ZM45.0989 18.2711C38.2159 18.8952 32.8031 24.6912 32.8031 31.7342C32.8031 32.1492 32.8286 32.5582 32.8653 32.9638H5.75235C4.39674 32.9638 3.29323 31.8603 3.29323 30.5047V5.91299C3.29323 5.56475 3.37011 5.23588 3.50129 4.93548L21.8163 19.9548C22.5319 20.4219 23.3545 20.6681 24.1962 20.6681C25.0055 20.6681 25.7968 20.44 26.4932 20.0077C26.5629 19.9705 26.6289 19.9261 26.6914 19.8744L44.8908 4.93525C45.022 5.23588 45.0991 5.56475 45.0991 5.91311V18.2711H45.0989ZM46.3286 35.423C44.2944 35.423 42.6398 33.7683 42.6398 31.7342C42.6398 29.7001 44.2944 28.0455 46.3286 28.0455C48.3627 28.0455 50.0173 29.7001 50.0173 31.7342C50.0173 33.7683 48.3627 35.423 46.3286 35.423Z\" fill=\"url(#paint0_linear_14929_1546)\">\n",
            "           </path>\n",
            "           <defs>\n",
            "            <lineargradient gradientunits=\"userSpaceOnUse\" id=\"paint0_linear_14929_1546\" x1=\"0.832112\" x2=\"59.852\" y1=\"23.1257\" y2=\"23.1257\">\n",
            "             <stop stop-color=\"#D55AFF\">\n",
            "             </stop>\n",
            "             <stop offset=\"1\" stop-color=\"#0038B0\">\n",
            "             </stop>\n",
            "            </lineargradient>\n",
            "           </defs>\n",
            "          </svg>\n",
            "         </div>\n",
            "         <p>\n",
            "          contato@projetoecho.com\n",
            "         </p>\n",
            "        </div>\n",
            "       </div>\n",
            "      </div>\n",
            "      <a href=\"#section-1\">\n",
            "       <button type=\"button\">\n",
            "        <svg fill=\"none\" height=\"88\" viewbox=\"0 0 88 88\" width=\"88\" xmlns=\"http://www.w3.org/2000/svg\">\n",
            "         <mask height=\"88\" id=\"mask0_14929_1560\" maskunits=\"userSpaceOnUse\" style=\"mask-type:luminance\" width=\"88\" x=\"0\" y=\"0\">\n",
            "          <path d=\"M0 0L88 -3.8466e-06L88 88L3.8466e-06 88L0 0Z\" fill=\"white\">\n",
            "          </path>\n",
            "         </mask>\n",
            "         <g mask=\"url(#mask0_14929_1560)\">\n",
            "          <path clip-rule=\"evenodd\" d=\"M81.125 44C81.125 64.5036 64.5037 81.125 44 81.125C23.4964 81.125 6.875 64.5036 6.875 44C6.875 23.4964 23.4964 6.87501 44 6.87501C64.5037 6.875 81.125 23.4963 81.125 44ZM88 44C88 68.3005 68.3004 88 44 88C19.6995 88 -1.92328e-06 68.3005 -1.9233e-06 44C-1.91988e-06 19.6996 19.6995 6.7683e-06 44 5.70609e-06C68.3004 4.64389e-06 88 19.6996 88 44ZM43.9997 15.5987L72.401 44L67.5397 48.8613L47.4375 28.7592L47.4375 70.9774L40.5625 70.9774L40.5625 28.7588L20.46 48.8613L15.5987 44L43.9997 15.5987Z\" fill=\"black\" fill-rule=\"evenodd\">\n",
            "          </path>\n",
            "          <path clip-rule=\"evenodd\" d=\"M81.125 44C81.125 64.5036 64.5037 81.125 44 81.125C23.4964 81.125 6.875 64.5036 6.875 44C6.875 23.4964 23.4964 6.87501 44 6.87501C64.5037 6.875 81.125 23.4963 81.125 44ZM88 44C88 68.3005 68.3004 88 44 88C19.6995 88 -1.92328e-06 68.3005 -1.9233e-06 44C-1.91988e-06 19.6996 19.6995 6.7683e-06 44 5.70609e-06C68.3004 4.64389e-06 88 19.6996 88 44ZM43.9997 15.5987L72.401 44L67.5397 48.8613L47.4375 28.7592L47.4375 70.9774L40.5625 70.9774L40.5625 28.7588L20.46 48.8613L15.5987 44L43.9997 15.5987Z\" fill=\"url(#paint0_linear_14929_1560)\" fill-rule=\"evenodd\">\n",
            "          </path>\n",
            "         </g>\n",
            "         <defs>\n",
            "          <lineargradient gradientunits=\"userSpaceOnUse\" id=\"paint0_linear_14929_1560\" x1=\"43.9972\" x2=\"43.9972\" y1=\"88.0028\" y2=\"0.00279794\">\n",
            "           <stop stop-color=\"#D55AFF\">\n",
            "           </stop>\n",
            "           <stop offset=\"1\" stop-color=\"#0038B0\">\n",
            "           </stop>\n",
            "          </lineargradient>\n",
            "         </defs>\n",
            "        </svg>\n",
            "       </button>\n",
            "      </a>\n",
            "     </div>\n",
            "    </section>\n",
            "   </div>\n",
            "  </section>\n",
            " </body>\n",
            "</html>\n"
          ]
        }
      ]
    },
    {
      "cell_type": "code",
      "source": [],
      "metadata": {
        "id": "hBbb6JRgaLmz"
      },
      "execution_count": null,
      "outputs": []
    },
    {
      "cell_type": "code",
      "source": [
        "primeiro_h1 = html_formatado.find_all([\"h1\"])\n",
        "for ocorrencia in primeiro_h1:\n",
        "  print(ocorrencia.text)"
      ],
      "metadata": {
        "colab": {
          "base_uri": "https://localhost:8080/"
        },
        "id": "su7EMd4ULNnt",
        "outputId": "c109c0b5-97db-4e54-bd98-3719287bb843"
      },
      "execution_count": 5,
      "outputs": [
        {
          "output_type": "stream",
          "name": "stdout",
          "text": [
            "Sua Plataforma de vídeo aulas\n",
            "Sobre nós\n",
            "Qual é a finalidade do pipetador pera na prática química e como ele é utilizado?\n",
            "Dúvidas frequentes\n"
          ]
        }
      ]
    },
    {
      "cell_type": "markdown",
      "source": [
        "## Pegando conteudo usnado classs e IDs"
      ],
      "metadata": {
        "id": "K1UPUxGhW6NY"
      }
    },
    {
      "cell_type": "code",
      "source": [
        "img = html_formatado.find_all(\"div\", class_=\"img-box-seta\")\n",
        "# print(img)\n",
        "requisito = html_formatado.find(id=\"section-2\")\n",
        "print(requisito)"
      ],
      "metadata": {
        "colab": {
          "base_uri": "https://localhost:8080/"
        },
        "id": "Ebga9TntW5s7",
        "outputId": "35412a26-ee42-40b3-af6c-e830e63debb1"
      },
      "execution_count": 6,
      "outputs": [
        {
          "output_type": "stream",
          "name": "stdout",
          "text": [
            "<section id=\"section-2\">\n",
            "<div class=\"img-box\">\n",
            "<img alt=\"\" src=\"img/logo_txt_preto.png\"/>\n",
            "</div>\n",
            "</section>\n"
          ]
        }
      ]
    },
    {
      "cell_type": "markdown",
      "source": [
        "## Pegando conteudo com filtro de texto\n"
      ],
      "metadata": {
        "id": "c1_YFG7sZdmx"
      }
    },
    {
      "cell_type": "code",
      "source": [
        "primeiro_h1 = html_formatado.find_all([\"h1\", \"a\"], string=re.compile(\"Sobre\"))\n",
        "for ocorrencia in primeiro_h1:\n",
        "  print(ocorrencia.text)"
      ],
      "metadata": {
        "colab": {
          "base_uri": "https://localhost:8080/"
        },
        "id": "lwc-y2qlZjmB",
        "outputId": "204e7408-402a-4202-e6b3-ef9a5210711a"
      },
      "execution_count": 7,
      "outputs": [
        {
          "output_type": "stream",
          "name": "stdout",
          "text": [
            "Sobre nós\n"
          ]
        }
      ]
    },
    {
      "cell_type": "code",
      "source": [
        "but = html_formatado.find(id=\"section-1\").a\n",
        "print(but['href'])"
      ],
      "metadata": {
        "colab": {
          "base_uri": "https://localhost:8080/"
        },
        "id": "kgCHKxS6dKkt",
        "outputId": "23b9dd5e-8bdd-4467-e5da-2c5b9d5b86a2"
      },
      "execution_count": null,
      "outputs": [
        {
          "output_type": "stream",
          "name": "stdout",
          "text": [
            "#section-1\n"
          ]
        }
      ]
    },
    {
      "cell_type": "code",
      "source": [
        "img = html_formatado.find(\"img\")\n",
        "print(img['src'])"
      ],
      "metadata": {
        "colab": {
          "base_uri": "https://localhost:8080/"
        },
        "id": "jOw_ZuryeUV5",
        "outputId": "3fd6e8ee-d039-4535-cb34-0d8b75292ed6"
      },
      "execution_count": 10,
      "outputs": [
        {
          "output_type": "stream",
          "name": "stdout",
          "text": [
            "img/Logo - Echo.png\n"
          ]
        }
      ]
    },
    {
      "cell_type": "code",
      "source": [
        "elemento_lista = html_formatado.find(\"section\", id=\"section-1\").ul.li\n",
        "print(elemento_lista)"
      ],
      "metadata": {
        "colab": {
          "base_uri": "https://localhost:8080/"
        },
        "id": "oJPiEe65qbw-",
        "outputId": "cc48f1b6-0e0a-4818-fc07-2a0d1430e148"
      },
      "execution_count": 22,
      "outputs": [
        {
          "output_type": "stream",
          "name": "stdout",
          "text": [
            "<li>Inicio</li>\n"
          ]
        }
      ]
    },
    {
      "cell_type": "code",
      "source": [
        "quarto_elemento_lista = html_formatado.select(\"#section-1 header ul a:nth-of-type(4)\")\n",
        "print(quarto_elemento_lista)"
      ],
      "metadata": {
        "colab": {
          "base_uri": "https://localhost:8080/"
        },
        "id": "KL_1cPSVrPo3",
        "outputId": "40473b8b-45ba-4624-98a5-ed3325759d70"
      },
      "execution_count": 34,
      "outputs": [
        {
          "output_type": "stream",
          "name": "stdout",
          "text": [
            "[<a href=\"#section-4\">\n",
            "<li>Duvida</li>\n",
            "</a>]\n"
          ]
        }
      ]
    }
  ]
}